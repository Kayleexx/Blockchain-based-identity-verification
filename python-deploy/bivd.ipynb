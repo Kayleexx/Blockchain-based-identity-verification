{
 "cells": [
  {
   "cell_type": "code",
   "execution_count": 31,
   "metadata": {},
   "outputs": [
    {
     "name": "stdout",
     "output_type": "stream",
     "text": [
      "Requirement already satisfied: matplotlib in c:\\users\\hp\\blockchain-identity-verification\\.venv\\lib\\site-packages (3.8.4)\n",
      "Requirement already satisfied: contourpy>=1.0.1 in c:\\users\\hp\\blockchain-identity-verification\\.venv\\lib\\site-packages (from matplotlib) (1.2.1)\n",
      "Requirement already satisfied: cycler>=0.10 in c:\\users\\hp\\blockchain-identity-verification\\.venv\\lib\\site-packages (from matplotlib) (0.12.1)\n",
      "Requirement already satisfied: fonttools>=4.22.0 in c:\\users\\hp\\blockchain-identity-verification\\.venv\\lib\\site-packages (from matplotlib) (4.51.0)\n",
      "Requirement already satisfied: kiwisolver>=1.3.1 in c:\\users\\hp\\blockchain-identity-verification\\.venv\\lib\\site-packages (from matplotlib) (1.4.5)\n",
      "Requirement already satisfied: numpy>=1.21 in c:\\users\\hp\\blockchain-identity-verification\\.venv\\lib\\site-packages (from matplotlib) (1.26.4)\n",
      "Requirement already satisfied: packaging>=20.0 in c:\\users\\hp\\blockchain-identity-verification\\.venv\\lib\\site-packages (from matplotlib) (24.0)\n",
      "Requirement already satisfied: pillow>=8 in c:\\users\\hp\\blockchain-identity-verification\\.venv\\lib\\site-packages (from matplotlib) (10.3.0)\n",
      "Requirement already satisfied: pyparsing>=2.3.1 in c:\\users\\hp\\blockchain-identity-verification\\.venv\\lib\\site-packages (from matplotlib) (3.1.2)\n",
      "Requirement already satisfied: python-dateutil>=2.7 in c:\\users\\hp\\blockchain-identity-verification\\.venv\\lib\\site-packages (from matplotlib) (2.9.0.post0)\n",
      "Requirement already satisfied: six>=1.5 in c:\\users\\hp\\blockchain-identity-verification\\.venv\\lib\\site-packages (from python-dateutil>=2.7->matplotlib) (1.16.0)\n",
      "Note: you may need to restart the kernel to use updated packages.\n"
     ]
    }
   ],
   "source": [
    "%pip install matplotlib"
   ]
  },
  {
   "cell_type": "code",
   "execution_count": 32,
   "metadata": {},
   "outputs": [
    {
     "name": "stdout",
     "output_type": "stream",
     "text": [
      "Collecting sympy\n",
      "  Downloading sympy-1.12-py3-none-any.whl.metadata (12 kB)\n",
      "Collecting mpmath>=0.19 (from sympy)\n",
      "  Downloading mpmath-1.3.0-py3-none-any.whl.metadata (8.6 kB)\n",
      "Downloading sympy-1.12-py3-none-any.whl (5.7 MB)\n",
      "   ---------------------------------------- 0.0/5.7 MB ? eta -:--:--\n",
      "    --------------------------------------- 0.1/5.7 MB 3.5 MB/s eta 0:00:02\n",
      "   -- ------------------------------------- 0.3/5.7 MB 4.0 MB/s eta 0:00:02\n",
      "   ----- ---------------------------------- 0.8/5.7 MB 5.4 MB/s eta 0:00:01\n",
      "   -------- ------------------------------- 1.2/5.7 MB 5.8 MB/s eta 0:00:01\n",
      "   ----------- ---------------------------- 1.6/5.7 MB 6.7 MB/s eta 0:00:01\n",
      "   ------------- -------------------------- 1.9/5.7 MB 7.3 MB/s eta 0:00:01\n",
      "   ----------------- ---------------------- 2.5/5.7 MB 7.7 MB/s eta 0:00:01\n",
      "   ------------------- -------------------- 2.8/5.7 MB 7.8 MB/s eta 0:00:01\n",
      "   --------------------- ------------------ 3.1/5.7 MB 8.0 MB/s eta 0:00:01\n",
      "   --------------------- ------------------ 3.1/5.7 MB 8.0 MB/s eta 0:00:01\n",
      "   ----------------------- ---------------- 3.4/5.7 MB 6.6 MB/s eta 0:00:01\n",
      "   ------------------------ --------------- 3.6/5.7 MB 6.3 MB/s eta 0:00:01\n",
      "   -------------------------- ------------- 3.7/5.7 MB 6.0 MB/s eta 0:00:01\n",
      "   -------------------------- ------------- 3.9/5.7 MB 5.7 MB/s eta 0:00:01\n",
      "   --------------------------- ------------ 4.0/5.7 MB 5.5 MB/s eta 0:00:01\n",
      "   ---------------------------- ----------- 4.1/5.7 MB 5.5 MB/s eta 0:00:01\n",
      "   ----------------------------- ---------- 4.3/5.7 MB 5.2 MB/s eta 0:00:01\n",
      "   ------------------------------ --------- 4.4/5.7 MB 5.1 MB/s eta 0:00:01\n",
      "   ------------------------------- -------- 4.6/5.7 MB 5.0 MB/s eta 0:00:01\n",
      "   -------------------------------- ------- 4.7/5.7 MB 4.9 MB/s eta 0:00:01\n",
      "   --------------------------------- ------ 4.8/5.7 MB 4.8 MB/s eta 0:00:01\n",
      "   ---------------------------------- ----- 5.0/5.7 MB 4.8 MB/s eta 0:00:01\n",
      "   ----------------------------------- ---- 5.1/5.7 MB 4.7 MB/s eta 0:00:01\n",
      "   ------------------------------------ --- 5.2/5.7 MB 4.6 MB/s eta 0:00:01\n",
      "   ------------------------------------- -- 5.4/5.7 MB 4.6 MB/s eta 0:00:01\n",
      "   -------------------------------------- - 5.5/5.7 MB 4.5 MB/s eta 0:00:01\n",
      "   ---------------------------------------  5.6/5.7 MB 4.4 MB/s eta 0:00:01\n",
      "   ---------------------------------------- 5.7/5.7 MB 4.4 MB/s eta 0:00:00\n",
      "Downloading mpmath-1.3.0-py3-none-any.whl (536 kB)\n",
      "   ---------------------------------------- 0.0/536.2 kB ? eta -:--:--\n",
      "   --------- ------------------------------ 122.9/536.2 kB 7.0 MB/s eta 0:00:01\n",
      "   ----------- ---------------------------- 153.6/536.2 kB 1.5 MB/s eta 0:00:01\n",
      "   ---------------------- ----------------- 307.2/536.2 kB 2.4 MB/s eta 0:00:01\n",
      "   --------------------------------- ------ 450.6/536.2 kB 2.3 MB/s eta 0:00:01\n",
      "   ---------------------------------------- 536.2/536.2 kB 2.4 MB/s eta 0:00:00\n",
      "Installing collected packages: mpmath, sympy\n",
      "Successfully installed mpmath-1.3.0 sympy-1.12\n",
      "Note: you may need to restart the kernel to use updated packages.\n"
     ]
    }
   ],
   "source": [
    "%pip install sympy"
   ]
  },
  {
   "cell_type": "code",
   "execution_count": 33,
   "metadata": {},
   "outputs": [
    {
     "name": "stdout",
     "output_type": "stream",
     "text": [
      "Data: Identity Record 1\n",
      "Timestamp: 2024-04-23 23:41:40.795589\n",
      "Previous Hash: None\n",
      "-----------\n",
      "Data: Identity Record 2\n",
      "Timestamp: 2024-04-23 23:41:40.795589\n",
      "Previous Hash: 2024-04-23 23:41:40.795589\n",
      "-----------\n"
     ]
    }
   ],
   "source": [
    "from datetime import datetime\n",
    "\n",
    "# Implementing a simple blockchain for decentralized identity framework\n",
    "class Block:\n",
    "    def __init__(self, data):\n",
    "        self.data = data\n",
    "        self.previous_hash = None\n",
    "        self.timestamp = datetime.now()\n",
    "\n",
    "class Blockchain:\n",
    "    def __init__(self):\n",
    "        self.chain = []\n",
    "\n",
    "    def add_block(self, block):\n",
    "        if len(self.chain) > 0:\n",
    "            block.previous_hash = self.chain[-1].timestamp\n",
    "        self.chain.append(block)\n",
    "\n",
    "# Creating a blockchain instance\n",
    "blockchain = Blockchain()\n",
    "block1 = Block(\"Identity Record 1\")\n",
    "block2 = Block(\"Identity Record 2\")\n",
    "blockchain.add_block(block1)\n",
    "blockchain.add_block(block2)\n",
    "\n",
    "# Displaying blockchain\n",
    "for block in blockchain.chain:\n",
    "    print(\"Data:\", block.data)\n",
    "    print(\"Timestamp:\", block.timestamp)\n",
    "    print(\"Previous Hash:\", block.previous_hash)\n",
    "    print(\"-----------\")"
   ]
  },
  {
   "cell_type": "code",
   "execution_count": 34,
   "metadata": {},
   "outputs": [
    {
     "name": "stdout",
     "output_type": "stream",
     "text": [
      "User ID: 123456\n",
      "Attributes: {'Name': 'Alice', 'Age': 30, 'Country': 'USA'}\n"
     ]
    }
   ],
   "source": [
    "# Implementing a class for self-sovereign identity\n",
    "class SelfSovereignIdentity:\n",
    "    def __init__(self, user_id, attributes):\n",
    "        self.user_id = user_id\n",
    "        self.attributes = attributes\n",
    "\n",
    "# Creating a self-sovereign identity instance\n",
    "user_identity = SelfSovereignIdentity(\"123456\", {\"Name\": \"Alice\", \"Age\": 30, \"Country\": \"USA\"})\n",
    "\n",
    "# Displaying user identity\n",
    "print(\"User ID:\", user_identity.user_id)\n",
    "print(\"Attributes:\", user_identity.attributes)"
   ]
  },
  {
   "cell_type": "code",
   "execution_count": 35,
   "metadata": {},
   "outputs": [
    {
     "name": "stdout",
     "output_type": "stream",
     "text": [
      "User's DID: 9760c9cd-5530-4d25-b9c4-f61ff61a34b1\n"
     ]
    }
   ],
   "source": [
    "# Implementing Decentralized Identifiers (DIDs)\n",
    "import uuid\n",
    "\n",
    "class DecentralizedIdentifier:\n",
    "    def __init__(self):\n",
    "        self.did = uuid.uuid4()\n",
    "\n",
    "# Creating a DID for a user\n",
    "user_did = DecentralizedIdentifier()\n",
    "\n",
    "# Displaying user's DID\n",
    "print(\"User's DID:\", user_did.did)"
   ]
  },
  {
   "cell_type": "code",
   "execution_count": 36,
   "metadata": {},
   "outputs": [
    {
     "name": "stdout",
     "output_type": "stream",
     "text": [
      "Zero-Knowledge Proof Successful!\n"
     ]
    }
   ],
   "source": [
    "# Implementing Zero-Knowledge Proofs (ZKPs)\n",
    "from sympy import symbols, Eq, solve\n",
    "\n",
    "# Example scenario: Proving knowledge of a secret number without revealing it\n",
    "a, x = symbols('a x')\n",
    "equation = Eq(a, x**2)\n",
    "secret_number = 5  # The secret number\n",
    "result = solve(equation.subs({a: secret_number}), x)\n",
    "\n",
    "# Verifying the proof\n",
    "if result[0]**2 == secret_number:\n",
    "    print(\"Zero-Knowledge Proof Successful!\")\n",
    "else:\n",
    "    print(\"Zero-Knowledge Proof Failed!\")"
   ]
  },
  {
   "cell_type": "code",
   "execution_count": 37,
   "metadata": {},
   "outputs": [
    {
     "name": "stdout",
     "output_type": "stream",
     "text": [
      "User has access to the resource.\n"
     ]
    }
   ],
   "source": [
    "# Implementing Smart Contracts for Access Control (Sample Smart Contract)\n",
    "from hashlib import sha256\n",
    "\n",
    "class SmartContract:\n",
    "    def __init__(self):\n",
    "        self.access_control_rules = {}\n",
    "\n",
    "    def grant_access(self, user_address, resource):\n",
    "        access_key = sha256(f\"{user_address}-{resource}\".encode()).hexdigest()\n",
    "        self.access_control_rules[access_key] = True\n",
    "\n",
    "    def check_access(self, user_address, resource):\n",
    "        access_key = sha256(f\"{user_address}-{resource}\".encode()).hexdigest()\n",
    "        return access_key in self.access_control_rules\n",
    "\n",
    "# Example usage:\n",
    "contract = SmartContract()\n",
    "user_address = \"0x123456789abcdef\"\n",
    "resource = \"medical_records\"\n",
    "contract.grant_access(user_address, resource)\n",
    "\n",
    "# Check if the user has access to the resource\n",
    "has_access = contract.check_access(user_address, resource)\n",
    "if has_access:\n",
    "    print(\"User has access to the resource.\")\n",
    "else:\n",
    "    print(\"Access denied.\")"
   ]
  },
  {
   "cell_type": "code",
   "execution_count": 38,
   "metadata": {},
   "outputs": [
    {
     "name": "stdout",
     "output_type": "stream",
     "text": [
      "Identity verified using social media profile.\n"
     ]
    }
   ],
   "source": [
    "# Integration with Social Identity (Sample Code)\n",
    "class SocialIdentity:\n",
    "    def __init__(self, social_media_profile):\n",
    "        self.social_media_profile = social_media_profile\n",
    "\n",
    "    def verify_identity(self):\n",
    "        # Perform verification using social media profile\n",
    "        if self.social_media_profile.is_verified:\n",
    "            return True\n",
    "        else:\n",
    "            return False\n",
    "\n",
    "# Example usage:\n",
    "class SocialMediaProfile:\n",
    "    def __init__(self, username, is_verified):\n",
    "        self.username = username\n",
    "        self.is_verified = is_verified\n",
    "\n",
    "social_profile = SocialMediaProfile(\"example_user\", True)\n",
    "identity = SocialIdentity(social_profile)\n",
    "is_verified = identity.verify_identity()\n",
    "\n",
    "if is_verified:\n",
    "    print(\"Identity verified using social media profile.\")\n",
    "else:\n",
    "    print(\"Identity verification failed.\")"
   ]
  },
  {
   "cell_type": "code",
   "execution_count": 39,
   "metadata": {},
   "outputs": [
    {
     "name": "stdout",
     "output_type": "stream",
     "text": [
      "Node 1: 1 tokens\n",
      "Node 2: 1 tokens\n",
      "Node 3: 1 tokens\n"
     ]
    }
   ],
   "source": [
    "# Incentivized Node Participation (Sample Code)\n",
    "class Node:\n",
    "    def __init__(self, node_id):\n",
    "        self.node_id = node_id\n",
    "        self.tokens = 0\n",
    "\n",
    "    def participate_in_verification(self):\n",
    "        # Simulate participation in verification process\n",
    "        self.tokens += 1\n",
    "\n",
    "# Example usage:\n",
    "nodes = [Node(1), Node(2), Node(3)]\n",
    "\n",
    "# Simulate participation\n",
    "for node in nodes:\n",
    "    node.participate_in_verification()\n",
    "\n",
    "# Display token counts\n",
    "for node in nodes:\n",
    "    print(f\"Node {node.node_id}: {node.tokens} tokens\")"
   ]
  },
  {
   "cell_type": "code",
   "execution_count": 40,
   "metadata": {},
   "outputs": [
    {
     "data": {
      "image/png": "[encoded data removed]",
      "text/plain": [
       "<Figure size 640x480 with 1 Axes>"
      ]
     },
     "metadata": {},
     "output_type": "display_data"
    }
   ],
   "source": [
    "# Experimental Validation (Sample Code)\n",
    "import numpy as np\n",
    "import matplotlib.pyplot as plt\n",
    "\n",
    "# Simulated performance metrics\n",
    "metrics = {\n",
    "    'Functionality': 90,\n",
    "    'Security': 85,\n",
    "    'Performance': 92\n",
    "}\n",
    "\n",
    "# Bar plot of performance metrics\n",
    "plt.bar(metrics.keys(), metrics.values(), color=['blue', 'green', 'orange'])\n",
    "plt.xlabel('Metrics')\n",
    "plt.ylabel('Scores')\n",
    "plt.title('Experimental Validation Metrics')\n",
    "plt.show()"
   ]
  }
 ],
 "metadata": {
  "kernelspec": {
   "display_name": ".venv",
   "language": "python",
   "name": "python3"
  },
  "language_info": {
   "codemirror_mode": {
    "name": "ipython",
    "version": 3
   },
   "file_extension": ".py",
   "mimetype": "text/x-python",
   "name": "python",
   "nbconvert_exporter": "python",
   "pygments_lexer": "ipython3",
   "version": "3.12.1"
  }
 },
 "nbformat": 4,
 "nbformat_minor": 2
}
